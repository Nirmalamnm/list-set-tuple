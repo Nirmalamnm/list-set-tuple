{
  "nbformat": 4,
  "nbformat_minor": 0,
  "metadata": {
    "colab": {
      "name": "List",
      "provenance": [],
      "collapsed_sections": []
    },
    "kernelspec": {
      "name": "python3",
      "display_name": "Python 3"
    },
    "accelerator": "TPU"
  },
  "cells": [
    {
      "cell_type": "code",
      "metadata": {
        "id": "VGOgAmrBGbHk",
        "colab_type": "code",
        "colab": {}
      },
      "source": [
        "num = [1,2,3,4]"
      ],
      "execution_count": 0,
      "outputs": []
    },
    {
      "cell_type": "code",
      "metadata": {
        "id": "pDbjPZ7mTz3L",
        "colab_type": "code",
        "colab": {
          "base_uri": "https://localhost:8080/",
          "height": 33
        },
        "outputId": "b01d7e77-9043-48e1-89fc-892f2074259e"
      },
      "source": [
        "print(num)"
      ],
      "execution_count": 3,
      "outputs": [
        {
          "output_type": "stream",
          "text": [
            "[1, 2, 3, 4]\n"
          ],
          "name": "stdout"
        }
      ]
    },
    {
      "cell_type": "code",
      "metadata": {
        "id": "r-3DscmXT0B9",
        "colab_type": "code",
        "colab": {
          "base_uri": "https://localhost:8080/",
          "height": 33
        },
        "outputId": "81eff6f9-155e-4f9d-c048-3185e8a0f715"
      },
      "source": [
        "letter = ['a','b','c']\n",
        "print(letter)"
      ],
      "execution_count": 4,
      "outputs": [
        {
          "output_type": "stream",
          "text": [
            "['a', 'b', 'c']\n"
          ],
          "name": "stdout"
        }
      ]
    },
    {
      "cell_type": "code",
      "metadata": {
        "id": "oI566NGVVvbS",
        "colab_type": "code",
        "colab": {
          "base_uri": "https://localhost:8080/",
          "height": 33
        },
        "outputId": "d23d53c5-65ac-42d2-dc81-516fc5fbe0b8"
      },
      "source": [
        "stg = [\"get\",\"upgrade\",\"certified\"]\n",
        "print(stg)"
      ],
      "execution_count": 5,
      "outputs": [
        {
          "output_type": "stream",
          "text": [
            "['get', 'upgrade', 'certified']\n"
          ],
          "name": "stdout"
        }
      ]
    },
    {
      "cell_type": "code",
      "metadata": {
        "id": "LwwSgv8QT0K0",
        "colab_type": "code",
        "colab": {
          "base_uri": "https://localhost:8080/",
          "height": 33
        },
        "outputId": "9af5a34e-9b86-461e-e03d-9b4270f276d8"
      },
      "source": [
        "mix = [1,6,\"certified\",\"upgrade\"]\n",
        "print(mix)"
      ],
      "execution_count": 7,
      "outputs": [
        {
          "output_type": "stream",
          "text": [
            "[1, 6, 'certified', 'upgrade']\n"
          ],
          "name": "stdout"
        }
      ]
    },
    {
      "cell_type": "code",
      "metadata": {
        "id": "vM7oXQIdWl7-",
        "colab_type": "code",
        "colab": {
          "base_uri": "https://localhost:8080/",
          "height": 33
        },
        "outputId": "67f5c2e4-b181-4c17-88d6-47c029e4f3de"
      },
      "source": [
        "mat = [[1,2],['a','b']]\n",
        "print(mat)"
      ],
      "execution_count": 10,
      "outputs": [
        {
          "output_type": "stream",
          "text": [
            "[[1, 2], ['a', 'b']]\n"
          ],
          "name": "stdout"
        }
      ]
    }
  ]
}